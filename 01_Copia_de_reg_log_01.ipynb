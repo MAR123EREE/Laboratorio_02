{
  "cells": [
    {
      "cell_type": "markdown",
      "metadata": {
        "id": "view-in-github",
        "colab_type": "text"
      },
      "source": [
        "<a href=\"https://colab.research.google.com/github/MAR123EREE/Laboratorio_02/blob/main/01_Copia_de_reg_log_01.ipynb\" target=\"_parent\"><img src=\"https://colab.research.google.com/assets/colab-badge.svg\" alt=\"Open In Colab\"/></a>"
      ]
    },
    {
      "cell_type": "markdown",
      "metadata": {
        "id": "9L0KhPHmJVNa"
      },
      "source": [
        "# Ejercicion de programación - Regresión Logistica\n",
        "\n",
        "En este ejercicio se implementa regresion logistica y se aplica a dos diferentes datasets."
      ]
    },
    {
      "cell_type": "code",
      "source": [
        "from google.colab import drive\n",
        "drive.mount('/content/drive')"
      ],
      "metadata": {
        "colab": {
          "base_uri": "https://localhost:8080/"
        },
        "id": "z5PQZyiqJhUu",
        "outputId": "0cdd0e77-56b7-49cc-cea4-8297f155229b"
      },
      "execution_count": 4,
      "outputs": [
        {
          "output_type": "stream",
          "name": "stdout",
          "text": [
            "Mounted at /content/drive\n"
          ]
        }
      ]
    },
    {
      "cell_type": "code",
      "execution_count": 5,
      "metadata": {
        "id": "Eg6cIE74JVNd"
      },
      "outputs": [],
      "source": [
        "# se utiliza para el manejo de rutas y directorios.\n",
        "import os\n",
        "\n",
        "# Calculo cientifico y vectorial para python\n",
        "import numpy as np\n",
        "\n",
        "# Librerias para graficar\n",
        "from matplotlib import pyplot\n",
        "\n",
        "# Modulo de optimización de scipy\n",
        "from scipy import optimize\n",
        "\n",
        "# le dice a matplotlib que incruste gráficos en el cuaderno\n",
        "%matplotlib inline"
      ]
    },
    {
      "cell_type": "markdown",
      "metadata": {
        "id": "t52vBnb_JVNe"
      },
      "source": [
        "## 1 Regresion Logistica\n",
        "\n",
        "En esta parte del ejercicio, creará un modelo de regresión logística\n",
        "Cambie en \"y\" la cantidad del indice de ahí, así que ahora está empezando desde -1"
      ]
    },
    {
      "cell_type": "code",
      "execution_count": 95,
      "metadata": {
        "colab": {
          "base_uri": "https://localhost:8080/"
        },
        "id": "WVzUelTXJVNe",
        "outputId": "e6934917-7961-4521-b384-88a71936c4e1"
      },
      "outputs": [
        {
          "output_type": "stream",
          "name": "stdout",
          "text": [
            "[[1372.    2.]\n",
            " [1461.    2.]\n",
            " [1371.    2.]\n",
            " ...\n",
            " [  82.    5.]\n",
            " [  79.    2.]\n",
            " [  72.    5.]]\n",
            "[1. 1. 1. ... 1. 1. 1.]\n"
          ]
        }
      ],
      "source": [
        "# Cargar datos\n",
        "data = np.loadtxt('/content/drive/MyDrive/Data_sets/Lab_03/mushroom_cleaned.txt', delimiter=',', skiprows=1)\n",
        "\n",
        "# Selecciona las características (columnas 0 y 1 en este ejemplo)\n",
        "X = data[:, :2]  # Podrías seleccionar diferentes columnas si lo deseas\n",
        "# Selecciona la columna de clasificación (última columna)\n",
        "y = data[:, -1]   # Asegúrate de que esta columna sea la correcta para \"venenoso o no\"\n",
        "\n",
        "print(X)\n",
        "print(y)"
      ]
    },
    {
      "cell_type": "markdown",
      "metadata": {
        "id": "5wAs5p25JVNf"
      },
      "source": [
        "### 1.1 Visualizar los datos\n",
        "\n",
        "Ningín cambio"
      ]
    },
    {
      "cell_type": "code",
      "execution_count": 10,
      "metadata": {
        "id": "PU2IfSLdJVNf"
      },
      "outputs": [],
      "source": [
        "def plotData(X, y):\n",
        "    # Crear una nueva figura\n",
        "    fig = pyplot.figure()\n",
        "\n",
        "    # Encuentra los índices de los ejemplos positivos (venenosos) y negativos (no venenosos)\n",
        "    pos = y == 1\n",
        "    neg = y == 0\n",
        "\n",
        "    # Grafica los ejemplos\n",
        "    pyplot.plot(X[pos, 0], X[pos, 1], 'k*', lw=2, ms=10)\n",
        "    pyplot.plot(X[neg, 0], X[neg, 1], 'ko', mfc='y', ms=8, mec='k', mew=1)"
      ]
    },
    {
      "cell_type": "markdown",
      "metadata": {
        "id": "llREAw-3JVNg"
      },
      "source": [
        "Se llama a la función implementada para mostrar los datos cargados:"
      ]
    },
    {
      "cell_type": "code",
      "execution_count": 52,
      "metadata": {
        "colab": {
          "base_uri": "https://localhost:8080/",
          "height": 449
        },
        "id": "8ynW5qI3JVNg",
        "outputId": "3e4a018e-a91f-4d6a-ea83-89a178661d13"
      },
      "outputs": [
        {
          "output_type": "display_data",
          "data": {
            "text/plain": [
              "<Figure size 640x480 with 1 Axes>"
            ],
            "image/png": "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\n"
          },
          "metadata": {}
        }
      ],
      "source": [
        "plotData(X, y)\n",
        "# adiciona etiquetas para los ejes\n",
        "pyplot.xlabel('Que tan venoso es')\n",
        "pyplot.ylabel('Cantidad ')\n",
        "pyplot.legend(['Venenoso', 'No venenoso'])\n",
        "pass"
      ]
    },
    {
      "cell_type": "markdown",
      "metadata": {
        "id": "Pfpf9aEFJVNg"
      },
      "source": [
        "<a id=\"section1\"></a>\n",
        "### 1.2 Implementacion\n"
      ]
    },
    {
      "cell_type": "code",
      "execution_count": 106,
      "metadata": {
        "id": "pk9dV23xJVNh"
      },
      "outputs": [],
      "source": [
        "# Función Sigmoid\n",
        "def sigmoid(z):\n",
        "    z = np.array(z)\n",
        "    return 1 / (1 + np.exp(-z))"
      ]
    },
    {
      "cell_type": "markdown",
      "metadata": {
        "id": "uRsBEhsWJVNh"
      },
      "source": [
        "Se calcula el valor de la sigmoide aplicando la funcion sigmoid con `z=0`, se debe obtener un resultado de 0.5. RE recomienda experimentar con otros valores de `z`."
      ]
    },
    {
      "cell_type": "code",
      "execution_count": 107,
      "metadata": {
        "colab": {
          "base_uri": "https://localhost:8080/"
        },
        "id": "uIPk61NLJVNh",
        "outputId": "88c3e3f2-cc4f-4b9b-dae1-38bb224511d9"
      },
      "outputs": [
        {
          "output_type": "stream",
          "name": "stdout",
          "text": [
            "g( [0, 0.5, 1] ) =  [0.5        0.62245933 0.73105858]\n"
          ]
        }
      ],
      "source": [
        "# Prueba la implementacion de la funcion sigmoid\n",
        "z = [0, 0.5, 1]\n",
        "g = sigmoid(z)\n",
        "\n",
        "print('g(', z, ') = ', g)"
      ]
    },
    {
      "cell_type": "markdown",
      "metadata": {
        "id": "tDl3_8hvJVNi"
      },
      "source": [
        "<a id=\"section2\"></a>\n",
        "#### 1.2.2 Función de Costo y Gradiente\n",
        "\n",
        "Se implementa la funcion cost y gradient, para la regresión logistica. Antes de continuar es importante agregar el termino de intercepcion a X."
      ]
    },
    {
      "cell_type": "code",
      "execution_count": 108,
      "metadata": {
        "id": "ELtMkiYDJVNi"
      },
      "outputs": [],
      "source": [
        "def calcularCosto(theta, X, y):\n",
        "    m = y.size\n",
        "    h = sigmoid(X.dot(theta.T))\n",
        "    J = (1 / m) * np.sum(-y.dot(np.log(h)) - (1 - y).dot(np.log(1 - h)))\n",
        "    return J"
      ]
    },
      {
[
      # Configurar la matriz adecuadamente, y agregar una columna de unos que corresponde al termino de intercepción.
      m, n = X.shape
      # Agraga el termino de intercepción a A
      X = np.concatenate([np.ones((m, 1)), X], axis=1)
]
      },
    {
      "cell_type": "markdown",
      "metadata": {
        "id": "dREHB51mJVNi"
      },
      "source": [
        "La funcion de costo en una regresión logistica es:\n",
        "\n",
        "$$ J(\\theta) = \\frac{1}{m} \\sum_{i=1}^{m} \\left[ -y^{(i)} \\log\\left(h_\\theta\\left( x^{(i)} \\right) \\right) - \\left( 1 - y^{(i)}\\right) \\log \\left( 1 - h_\\theta\\left( x^{(i)} \\right) \\right) \\right]$$\n",
        "\n",
        "y el gradiente del costo es un vector de la misma longitud como $\\theta$ donde el elemento $j^{th}$ (para $j = 0, 1, \\cdots , n$) se define como:\n",
        "\n",
        "$$ \\frac{\\partial J(\\theta)}{\\partial \\theta_j} = \\frac{1}{m} \\sum_{i=1}^m \\left( h_\\theta \\left( x^{(i)} \\right) - y^{(i)} \\right) x_j^{(i)} $$\n",
        "\n",
        "Si bien este gradiente parece idéntico al gradiente de regresión lineal, la fórmula es diferente porque la regresión lineal y logística tienen diferentes definiciones de $h_\\theta(x)$.\n",
        "<a id=\"costFunction\"></a>"
      ]
    },
    {
      "cell_type": "code",
      "execution_count": 109,
      "metadata": {
        "id": "iqDZRIgjJVNi"
      },
      "outputs": [],
      "source": [
        "def calcularCosto(theta, X, y):\n",
        "    # Inicializar algunos valores utiles\n",
        "    m = y.size  # numero de ejemplos de entrenamiento\n",
        "\n",
        "    J = 0\n",
        "    h = sigmoid(X.dot(theta.T))\n",
        "    J = (1 / m) * np.sum(-y.dot(np.log(h)) - (1 - y).dot(np.log(1 - h)))\n",
        "\n",
        "    return J"
      ]
    },
    {
      "cell_type": "code",
      "execution_count": 124,
      "metadata": {
        "id": "7G4SjTrwJVNi"
      },
      "outputs": [],
      "source": [
        "def descensoGradiente(theta, X, y, alpha, num_iters):\n",
        "    # Inicializa algunos valores\n",
        "    m = y.shape[0] # numero de ejemplos de entrenamiento\n",
        "\n",
        "    # realiza una copia de theta, el cual será acutalizada por el descenso por el gradiente\n",
        "    theta = theta.copy()\n",
        "    J_history = []\n",
        "\n",
        "    for i in range(num_iters):\n",
        "        h = sigmoid(X.dot(theta.T))\n",
        "        theta = theta - (alpha / m) * (h - y).dot(X)\n",
        "\n",
        "        J_history.append(calcularCosto(theta, X, y))\n",
        "    return theta, J_history"
      ]
    },
    {
      "cell_type": "code",
      "execution_count": 131,
      "metadata": {
        "scrolled": true,
        "colab": {
          "base_uri": "https://localhost:8080/",
          "height": 346
        },
        "id": "rBUlehg6JVNi",
        "outputId": "bbc93365-009e-4535-dece-275e0dfe13b1"
      },
      "outputs": [
        {
          "output_type": "error",
          "ename": "ValueError",
          "evalue": "shapes (54035,2) and (3,) not aligned: 2 (dim 1) != 3 (dim 0)",
          "traceback": [
            "\u001b[0;31m---------------------------------------------------------------------------\u001b[0m",
            "\u001b[0;31mValueError\u001b[0m                                Traceback (most recent call last)",
            "\u001b[0;32m<ipython-input-131-627bf936cc7a>\u001b[0m in \u001b[0;36m<cell line: 7>\u001b[0;34m()\u001b[0m\n\u001b[1;32m      5\u001b[0m \u001b[0;31m# inicializa theta y ejecuta el descenso por el gradiente\u001b[0m\u001b[0;34m\u001b[0m\u001b[0;34m\u001b[0m\u001b[0m\n\u001b[1;32m      6\u001b[0m \u001b[0mtheta\u001b[0m \u001b[0;34m=\u001b[0m \u001b[0mnp\u001b[0m\u001b[0;34m.\u001b[0m\u001b[0mzeros\u001b[0m\u001b[0;34m(\u001b[0m\u001b[0;36m3\u001b[0m\u001b[0;34m)\u001b[0m\u001b[0;34m\u001b[0m\u001b[0;34m\u001b[0m\u001b[0m\n\u001b[0;32m----> 7\u001b[0;31m \u001b[0mtheta\u001b[0m\u001b[0;34m,\u001b[0m \u001b[0mJ_history\u001b[0m \u001b[0;34m=\u001b[0m \u001b[0mdescensoGradiente\u001b[0m\u001b[0;34m(\u001b[0m\u001b[0mtheta\u001b[0m\u001b[0;34m,\u001b[0m \u001b[0mX\u001b[0m\u001b[0;34m,\u001b[0m \u001b[0my\u001b[0m\u001b[0;34m,\u001b[0m \u001b[0malpha\u001b[0m\u001b[0;34m,\u001b[0m \u001b[0mnum_iters\u001b[0m\u001b[0;34m)\u001b[0m\u001b[0;34m\u001b[0m\u001b[0;34m\u001b[0m\u001b[0m\n\u001b[0m\u001b[1;32m      8\u001b[0m \u001b[0;34m\u001b[0m\u001b[0m\n\u001b[1;32m      9\u001b[0m \u001b[0;31m# Grafica la convergencia del costo\u001b[0m\u001b[0;34m\u001b[0m\u001b[0;34m\u001b[0m\u001b[0m\n",
            "\u001b[0;32m<ipython-input-124-0ca2eb1984db>\u001b[0m in \u001b[0;36mdescensoGradiente\u001b[0;34m(theta, X, y, alpha, num_iters)\u001b[0m\n\u001b[1;32m      8\u001b[0m \u001b[0;34m\u001b[0m\u001b[0m\n\u001b[1;32m      9\u001b[0m     \u001b[0;32mfor\u001b[0m \u001b[0mi\u001b[0m \u001b[0;32min\u001b[0m \u001b[0mrange\u001b[0m\u001b[0;34m(\u001b[0m\u001b[0mnum_iters\u001b[0m\u001b[0;34m)\u001b[0m\u001b[0;34m:\u001b[0m\u001b[0;34m\u001b[0m\u001b[0;34m\u001b[0m\u001b[0m\n\u001b[0;32m---> 10\u001b[0;31m         \u001b[0mh\u001b[0m \u001b[0;34m=\u001b[0m \u001b[0msigmoid\u001b[0m\u001b[0;34m(\u001b[0m\u001b[0mX\u001b[0m\u001b[0;34m.\u001b[0m\u001b[0mdot\u001b[0m\u001b[0;34m(\u001b[0m\u001b[0mtheta\u001b[0m\u001b[0;34m.\u001b[0m\u001b[0mT\u001b[0m\u001b[0;34m)\u001b[0m\u001b[0;34m)\u001b[0m\u001b[0;34m\u001b[0m\u001b[0;34m\u001b[0m\u001b[0m\n\u001b[0m\u001b[1;32m     11\u001b[0m         \u001b[0mtheta\u001b[0m \u001b[0;34m=\u001b[0m \u001b[0mtheta\u001b[0m \u001b[0;34m-\u001b[0m \u001b[0;34m(\u001b[0m\u001b[0malpha\u001b[0m \u001b[0;34m/\u001b[0m \u001b[0mm\u001b[0m\u001b[0;34m)\u001b[0m \u001b[0;34m*\u001b[0m \u001b[0;34m(\u001b[0m\u001b[0mh\u001b[0m \u001b[0;34m-\u001b[0m \u001b[0my\u001b[0m\u001b[0;34m)\u001b[0m\u001b[0;34m.\u001b[0m\u001b[0mdot\u001b[0m\u001b[0;34m(\u001b[0m\u001b[0mX\u001b[0m\u001b[0;34m)\u001b[0m\u001b[0;34m\u001b[0m\u001b[0;34m\u001b[0m\u001b[0m\n\u001b[1;32m     12\u001b[0m \u001b[0;34m\u001b[0m\u001b[0m\n",
            "\u001b[0;31mValueError\u001b[0m: shapes (54035,2) and (3,) not aligned: 2 (dim 1) != 3 (dim 0)"
          ]
        }
      ],
      "source": [
        "# Elegir algun valor para alpha (probar varias alternativas)\n",
        "alpha = 0.001\n",
        "num_iters = 1000\n",
        "\n",
        "# inicializa theta y ejecuta el descenso por el gradiente\n",
        "theta = np.zeros(3)\n",
        "theta, J_history = descensoGradiente(theta, X, y, alpha, num_iters)\n",
        "\n",
        "# Grafica la convergencia del costo\n",
        "pyplot.plot(np.arange(len(J_history)), J_history, lw=2)\n",
        "pyplot.xlabel('Numero de iteraciones')\n",
        "pyplot.ylabel('Costo J')\n",
        "\n",
        "# Muestra los resultados del descenso por el gradiente\n",
        "print('theta calculado por el descenso por el gradiente: {:s}'.format(str(theta)))\n",
        "\n",
        "# verificar si es venenoso o no\n",
        "X_array = [1, 100, 56]\n",
        "Venenoso = sigmoid(np.dot(X_array, theta))   # Se debe cambiar esto\n",
        "\n",
        "print('Un hongo con el nivel de venenoso 1: 0.80 y su posibilidad de matar: 0.46 (usando el descenso por el gradiente):{:.0f}'.format(Venenoso))"
      ]
    },
    {
      "cell_type": "code",
      "source": [
        "X_array = [1, 80, 89]\n",
        "y_predicted = sigmoid(np.dot(X_array, theta))\n",
        "print('Un hongo 1 con veneno de: 0.80 y otro hongo con nivel de veneno de 89 -> :{:.0f}'.format(y_predicted))"
      ],
      "metadata": {
        "colab": {
          "base_uri": "https://localhost:8080/"
        },
        "id": "OCMi6DgUjA0O",
        "outputId": "622d0026-bcd1-4be6-8490-7aa4712846f4"
      },
      "execution_count": 127,
      "outputs": [
        {
          "output_type": "stream",
          "name": "stdout",
          "text": [
            "Un hongo 1 con veneno de: 0.80 y otro hongo con nivel de veneno de 89 -> :0\n"
          ]
        }
      ]
    },
    {
      "cell_type": "code",
      "execution_count": 86,
      "metadata": {
        "id": "C2Qew-sRJVNj"
      },
      "outputs": [],
      "source": [
        "def costFunction(theta, X, y):\n",
        "    # Inicializar algunos valores utiles\n",
        "    m = y.size  # numero de ejemplos de entrenamiento\n",
        "\n",
        "    J = 0\n",
        "    grad = np.zeros(theta.shape)\n",
        "\n",
        "    h = sigmoid(X.dot(theta.T))\n",
        "\n",
        "    J = (1 / m) * np.sum(-y.dot(np.log(h)) - (1 - y).dot(np.log(1 - h)))\n",
        "    grad = (1 / m) * (h - y).dot(X)\n",
        "\n",
        "    return J, grad"
      ]
    },
    {
      "cell_type": "markdown",
      "metadata": {
        "id": "1ioLXhR5JVNj"
      },
      "source": [
        "Se prueba la funcion `costFunction` utilizando dos casos de prueba para $\\theta$."
      ]
    },
    {
      "cell_type": "code",
      "execution_count": 87,
      "metadata": {
        "colab": {
          "base_uri": "https://localhost:8080/"
        },
        "id": "j7Fe_xEZJVNj",
        "outputId": "136b9237-e4ea-422d-df7f-21297d232705"
      },
      "outputs": [
        {
          "output_type": "stream",
          "name": "stdout",
          "text": [
            "[0. 0. 0.]\n",
            "Costo en theta inicial (zeros): 0.693\n",
            "Costo esperado (aproximado): 0.693\n",
            "\n",
            "[-0.04918109  1.7689368  -0.05340057]\n",
            "Gradiente en theta inicial (zeros):\n",
            "\t[-0.0492, 1.7689, -0.0534]\n",
            "Gradiente esperado (aproximado):\n",
            "\t[-0.1000, -12.0092, -11.2628]\n",
            "\n"
          ]
        }
      ],
      "source": [
        "# Inicializacion de parametros de ajuste\n",
        "initial_theta = np.zeros(n+1)\n",
        "print(initial_theta)\n",
        "cost, grad = costFunction(initial_theta, X, y)\n",
        "\n",
        "print('Costo en theta inicial (zeros): {:.3f}'.format(cost))\n",
        "print('Costo esperado (aproximado): 0.693\\n')\n",
        "print(grad)\n",
        "print('Gradiente en theta inicial (zeros):')\n",
        "print('\\t[{:.4f}, {:.4f}, {:.4f}]'.format(*grad))\n",
        "print('Gradiente esperado (aproximado):\\n\\t[-0.1000, -12.0092, -11.2628]\\n')\n",
        "\n"
      ]
    },
    {
      "cell_type": "code",
      "execution_count": 88,
      "metadata": {
        "colab": {
          "base_uri": "https://localhost:8080/"
        },
        "id": "4Um8ITq2JVNj",
        "outputId": "a068f9bc-0ac3-4c0c-9f44-6dd9fc63deee"
      },
      "outputs": [
        {
          "output_type": "stream",
          "name": "stdout",
          "text": [
            "[-100.     0.2    0.2]\n",
            "Costo en theta prueba: nan\n",
            "Costo esperado (aproximado): 0.218\n",
            "\n",
            "Gradiente en theta prueba:\n",
            "\t[-0.023, 158.637, 0.285]\n",
            "Gradiente esperado (aproximado):\n",
            "\t[0.043, 2.566, 2.647]\n"
          ]
        },
        {
          "output_type": "stream",
          "name": "stderr",
          "text": [
            "<ipython-input-86-e3041c0335d8>:10: RuntimeWarning: divide by zero encountered in log\n",
            "  J = (1 / m) * np.sum(-y.dot(np.log(h)) - (1 - y).dot(np.log(1 - h)))\n"
          ]
        }
      ],
      "source": [
        "# Calcula y muestra el costo y el gradiente con valores de theta diferentes a cero\n",
        "\n",
        "test_theta = np.array([-100, 0.2, 0.2])\n",
        "#test_theta = np.array([-11.74749157, 0.09927308, 0.09316497])\n",
        "print(test_theta)\n",
        "cost, grad = costFunction(test_theta, X, y)\n",
        "\n",
        "print('Costo en theta prueba: {:.3f}'.format(cost))\n",
        "print('Costo esperado (aproximado): 0.218\\n')\n",
        "\n",
        "print('Gradiente en theta prueba:')\n",
        "print('\\t[{:.3f}, {:.3f}, {:.3f}]'.format(*grad))\n",
        "print('Gradiente esperado (aproximado):\\n\\t[0.043, 2.566, 2.647]')"
      ]
    },
    {
      "cell_type": "markdown",
      "metadata": {
        "id": "7AeXffwpJVNj"
      },
      "source": [
        "#### 1.2.3 Parámetros de aprendizaje usando `scipy.optimize`\n",
        "\n",
        "En el codigo anterior se encontró los parámetros óptimos de un modelo de regresión lineal al implementar el descenso de gradiente. Se implemento una función de costo y se calculó su gradiente, utilizando el algoritmo del descenso por el gradiente.\n",
        "\n",
        "En lugar de realizar los pasos del descenso por el gradiente, se utilizará el [módulo `scipy.optimize`] (https://docs.scipy.org/doc/scipy/reference/optimize.html). SciPy es una biblioteca de computación numérica para `python`. Proporciona un módulo de optimización para la búsqueda y minimización de raíces. A partir de `scipy 1.0`, la función` scipy.optimize.minimize` es el método a utilizar para problemas de optimización (tanto restringidos como no restringidos).\n",
        "\n",
        "For logistic regression, you want to optimize the cost function $J(\\theta)$ with parameters $\\theta$.\n",
        "Concretely, you are going to use `optimize.minimize` to find the best parameters $\\theta$ for the logistic regression cost function, given a fixed dataset (of X and y values). You will pass to `optimize.minimize` the following inputs:\n",
        "\n",
        "Para la regresión logística, se desea optimizar la función de costo $J(\\theta)$ con los parámetros $\\theta$.\n",
        "Concretamente, se va a utilizar `optimize.minimize` para encontrar los mejores parámetros $\\theta$ para la función de costo de regresión logística, dado un dataset fijo (de valores X e y). Se pasara a `optimize.minimize` las siguientes entradas:\n",
        "\n",
        "- `costFunction`: Una función de costo que, cuando se le da el dataset de entrenamiento y un $\\theta$ particular, calcula el costo de regresión logística y el gradiente con respecto a $\\theta$ para el dataset(X, y). Es importante tener en cuenta que solo se pasa el nombre de la función sin el paréntesis. Esto indica que solo proporcionamos una referencia a esta función y no evaluamos el resultado de esta función.\n",
        "- `initial_theta`: Los valores iniciales de los parametros que se tratan de optimizar.\n",
        "- `(X, y)`: Estos son argumentos adicionales a la funcion de costo.\n",
        "- `jac`: Indicación si la función de costo devuelve el jacobiano (gradiente) junto con el valor de costo. (True)\n",
        "- `method`: Método / algoritmo de optimización a utilizar\n",
        "- `options`: Opciones adicionales que pueden ser específicas del método de optimización específico. Solo se indica al algoritmo el número máximo de iteraciones antes de que termine.\n",
        "\n",
        "Si se ha completado la `costFunction` correctamente,`optimize.minimize` convergerá en los parámetros de optimización correctos y devolverá los valores finales del costo y $\\theta$ en un objeto de clase.\n",
        "\n",
        "Al usar `optimize.minimize`, no se tuvo que escribir ningún bucle ni establecer una tasa de aprendizaje como se hizo para el descenso de gradientes. Todo esto se hace mediante `optimize.minimize`: solo se necesita proporcionar una función que calcule el costo y el gradiente.\n",
        "\n",
        "A continuación, se tiene el código para llamar a `optimize.minimize` con los argumentos correctos."
      ]
    },
    {
      "cell_type": "code",
      "execution_count": 89,
      "metadata": {
        "scrolled": true,
        "colab": {
          "base_uri": "https://localhost:8080/"
        },
        "id": "sB2xAu03JVNj",
        "outputId": "39a206fe-a14a-4786-d758-79cd71369e3c"
      },
      "outputs": [
        {
          "output_type": "stream",
          "name": "stdout",
          "text": [
            "Costo con un valor de theta encontrado por optimize.minimize: 0.669\n",
            "Costo esperado (aproximado): 0.203\n",
            "\n",
            "theta:\n",
            "\t[1.078, -0.001, -0.101]\n",
            "Theta esperado (aproximado):\n",
            "\t[-25.161, 0.206, 0.201]\n"
          ]
        },
        {
          "output_type": "stream",
          "name": "stderr",
          "text": [
            "<ipython-input-89-0dfcfa2e2ef1>:7: OptimizeWarning: Unknown solver options: maxiter\n",
            "  res = optimize.minimize(costFunction,\n"
          ]
        }
      ],
      "source": [
        "# Establecer las opciones para optimize.minimize\n",
        "options= {'maxiter': 1000}\n",
        "\n",
        "# revisar la documentacion de scipy's optimize.minimize para mayor descripcion de los parametros\n",
        "# La funcion devuekve un objeto `OptimizeResult`\n",
        "# Se utiliza el algoritmo de Newton truncado para la optimización.\n",
        "res = optimize.minimize(costFunction,\n",
        "                        initial_theta,\n",
        "                        (X, y),\n",
        "                        jac=True,\n",
        "                        method='TNC',\n",
        "                        options=options)\n",
        "\n",
        "# la propiedad fun del objeto devuelto por `OptimizeResult`\n",
        "# contiene el valor del costFunction de un theta optimizado\n",
        "cost = res.fun\n",
        "\n",
        "# Theta optimizada esta en la propiedad x\n",
        "theta = res.x\n",
        "\n",
        "# Imprimir theta en la pantalla\n",
        "print('Costo con un valor de theta encontrado por optimize.minimize: {:.3f}'.format(cost))\n",
        "print('Costo esperado (aproximado): 0.203\\n');\n",
        "\n",
        "print('theta:')\n",
        "print('\\t[{:.3f}, {:.3f}, {:.3f}]'.format(*theta))\n",
        "print('Theta esperado (aproximado):\\n\\t[-25.161, 0.206, 0.201]')"
      ]
    },
    {
      "cell_type": "markdown",
      "metadata": {
        "id": "1DlPL874JVNk"
      },
      "source": [
        "Una vez que se completa `optimize.minimize`, se usa el valor final de $\\theta$ para visualizar el límite de decisión en los datos de entrenamiento.\n",
        "\n",
        "Para hacerlo, se implementa la función `plotDecisionBoundary` para trazar el límite de decisión sobre los datos de entrenamiento."
      ]
    },
    {
      "cell_type": "code",
      "execution_count": 90,
      "metadata": {
        "id": "_mDWAzqxJVNk"
      },
      "outputs": [],
      "source": [
        "def plotDecisionBoundary(plotData, theta, X, y):\n",
        "    \"\"\"\n",
        "    Grafica los puntos X y Y en una nueva figura con un limite de desicion definido por theta.\n",
        "    the data points X and y into a new figure with the decision boundary defined by theta.\n",
        "    Grafica los puntos con * para los ejemplos positivos y con o para los ejemplos negativos.\n",
        "\n",
        "    Parametros:\n",
        "    ----------\n",
        "    plotData : func\n",
        "        A function reference for plotting the X, y data.\n",
        "\n",
        "    theta : array_like\n",
        "        Parametros para la regresion logistica. Un vecto de la forma (n+1, ).\n",
        "\n",
        "    X : array_like\n",
        "        Data set de entrada. Se supone que X es una de las siguientes:\n",
        "            1) Matriz Mx3, donde la primera columna es una columna de unos para intercepción.\n",
        "            2) Matriz MxN, N> 3, donde la primera columna son todos unos.\n",
        "\n",
        "    y : array_like\n",
        "        Vector de datos de etiquetas de la forma (m, ).\n",
        "    \"\"\"\n",
        "    # hacer que theta sera un arreglo numpy\n",
        "    theta = np.array(theta)\n",
        "\n",
        "    # Graficar los datos (recordar que la primera columna en X es la intercepción)\n",
        "    plotData(X[:, 1:3], y)\n",
        "\n",
        "    if X.shape[1] <= 3:\n",
        "        # Solo se requieren 2 puntos para definir una linea, para lo cual se eligen dos puntos finales\n",
        "        plot_x = np.array([np.min(X[:, 1]) - 2, np.max(X[:, 1]) + 2])\n",
        "\n",
        "        # Calcular la línea límite de decisión\n",
        "        plot_y = (-1. / theta[2]) * (theta[1] * plot_x + theta[0])\n",
        "\n",
        "        print(plot_x)\n",
        "        print(plot_y)\n",
        "        # Graficar y ajustar los ejes para una mejor visualización\n",
        "        pyplot.plot(plot_x, plot_y)\n",
        "\n",
        "        # Leyenda, especifica para el ejercicio\n",
        "        pyplot.legend(['No venenoso', 'Venenoso', 'Limite de decisión'])\n",
        "        pyplot.xlim([30, 100])\n",
        "        pyplot.ylim([30, 100])\n",
        "    else:\n",
        "        # Rango de la grilla\n",
        "        u = np.linspace(-1, 1.5, 50)\n",
        "        v = np.linspace(-1, 1.5, 50)\n",
        "\n",
        "        z = np.zeros((u.size, v.size))\n",
        "        # Evalua z = theta*x sobre la grilla\n",
        "        for i, ui in enumerate(u):\n",
        "            for j, vj in enumerate(v):\n",
        "                z[i, j] = np.dot(mapFeature(ui, vj), theta)\n",
        "\n",
        "        z = z.T  # importante transponer z antes de llamar al contorno\n",
        "        # print(z)\n",
        "\n",
        "        # Plot z = 0\n",
        "        pyplot.contour(u, v, z, levels=[0], linewidths=2, colors='g')\n",
        "        pyplot.contourf(u, v, z, levels=[np.min(z), 0, np.max(z)], cmap='Greens', alpha=0.4)\n"
      ]
    },
    {
      "cell_type": "code",
      "execution_count": 91,
      "metadata": {
        "colab": {
          "base_uri": "https://localhost:8080/",
          "height": 471
        },
        "id": "Q6oQNi0CJVNk",
        "outputId": "152203c1-ff32-4b7e-ed8f-fc691262f815"
      },
      "outputs": [
        {
          "output_type": "stream",
          "name": "stdout",
          "text": [
            "[  -2. 1893.]\n",
            "[10.69802787 -4.85488777]\n"
          ]
        },
        {
          "output_type": "display_data",
          "data": {
            "text/plain": [
              "<Figure size 640x480 with 1 Axes>"
            ],
            "image/png": "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\n"
          },
          "metadata": {}
        }
      ],
      "source": [
        "# Graficar limites\n",
        "plotDecisionBoundary(plotData, theta, X, y)"
      ]
    },
    {
      "cell_type": "markdown",
      "metadata": {
        "id": "nj6vynAtJVNk"
      },
      "source": [
        "<a id=\"section4\"></a>\n",
        "#### 1.2.4 Evaluación de la regresión logistica\n",
        "\n",
        "Después de aprender los parámetros, se puede usar el modelo para predecir si un estudiante en particular será admitido. Para un estudiante con una puntuación en el Examen 1 de 45 y una puntuación en el Examen 2 de 85, debe esperar ver una probabilidad de admisión de 0,776. Otra forma de evaluar la calidad de los parámetros que hemos encontrado es ver qué tan bien predice el modelo aprendido en nuestro conjunto de entrenamiento."
      ]
    },
    {
      "cell_type": "code",
      "execution_count": 92,
      "metadata": {
        "id": "0xz73RAdJVNk"
      },
      "outputs": [],
      "source": [
        "def predict(theta, X):\n",
        "    \"\"\"\n",
        "    Predecir si la etiqueta es 0 o 1 mediante regresión logística aprendida.\n",
        "    Calcula las predicciones para X usando un umbral en 0.5 (es decir, si sigmoide (theta.T * x)> = 0.5, predice 1)\n",
        "\n",
        "    Parametros\n",
        "    ----------\n",
        "    theta : array_like\n",
        "        Parametros para regresion logistica. Un vecto de la forma (n+1, ).\n",
        "\n",
        "    X : array_like\n",
        "        Datos utilizados para el calculo de las predicciones.\n",
        "        La fila es el numero de los puntos para calcular las predicciones,\n",
        "        y las columnas con el numero de caracteristicas.\n",
        "\n",
        "    Devuelve\n",
        "    -------\n",
        "    p : array_like\n",
        "        Predicciones y 0 o 1 para cada fila en X.\n",
        "    \"\"\"\n",
        "    m = X.shape[0] # Numero de ejemplo de entrenamiento\n",
        "\n",
        "    p = np.zeros(m)\n",
        "\n",
        "    p = np.round(sigmoid(X.dot(theta.T)))\n",
        "    return p"
      ]
    },
    {
      "cell_type": "markdown",
      "metadata": {
        "id": "w5PnbHiWJVNk"
      },
      "source": [
        "Una vez entrenado el modelo se procede a realizar la prediccion y evaluación de los resultados de predecir cual es el valor que vota el modelo para todos los datos utilizados en el entrenamiento."
      ]
    },
    {
      "cell_type": "code",
      "execution_count": 93,
      "metadata": {
        "colab": {
          "base_uri": "https://localhost:8080/"
        },
        "id": "VcAxVqIWJVNk",
        "outputId": "b00d8a79-d8c9-4ab6-b58e-88d36be9c878"
      },
      "outputs": [
        {
          "output_type": "stream",
          "name": "stdout",
          "text": [
            "Para un hongo con nivel de veneno de 45 y 85, se predice una probabilidad de venenoso de: 0.001%\n",
            "Valor esperado: 0.775 +/- 0.002\n",
            "\n",
            "Precisión de entrenamiento: 58.26 %\n",
            "Precisión esperada (aproximadamente): 89.00 %\n"
          ]
        }
      ],
      "source": [
        "#  Predice la probabilidad de ingreso para un estudiante con nota de 45 en el examen 1 y nota de 85 en el examen 2\n",
        "prob = sigmoid(np.dot([1, 45, 85], theta))\n",
        "print('Para un hongo con nivel de veneno de 45 y 85, se predice una probabilidad de venenoso de: {:.3f}%'.format(prob))\n",
        "print('Valor esperado: 0.775 +/- 0.002\\n')\n",
        "\n",
        "# Compute accuracy on our training set\n",
        "p = predict(theta, X)\n",
        "print('Precisión de entrenamiento: {:.2f} %'.format(np.mean(p == y) * 100))\n",
        "print('Precisión esperada (aproximadamente): 89.00 %')"
      ]
    }
  ],
  "metadata": {
    "kernelspec": {
      "display_name": "Python 3",
      "language": "python",
      "name": "python3"
    },
    "language_info": {
      "codemirror_mode": {
        "name": "ipython",
        "version": 3
      },
      "file_extension": ".py",
      "mimetype": "text/x-python",
      "name": "python",
      "nbconvert_exporter": "python",
      "pygments_lexer": "ipython3",
      "version": "3.8.5"
    },
    "colab": {
      "provenance": [],
      "include_colab_link": true
    }
  },
  "nbformat": 4,
  "nbformat_minor": 0
}
